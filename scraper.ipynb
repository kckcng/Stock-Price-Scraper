{
  "nbformat": 4,
  "nbformat_minor": 0,
  "metadata": {
    "colab": {
      "name": "scraper2.ipynb",
      "provenance": [],
      "collapsed_sections": []
    },
    "kernelspec": {
      "name": "python3",
      "display_name": "Python 3"
    }
  },
  "cells": [
    {
      "cell_type": "markdown",
      "metadata": {
        "id": "dIjkLrnA0JP0",
        "colab_type": "text"
      },
      "source": [
        "# **Stock-Price-Scraper**"
      ]
    },
    {
      "cell_type": "code",
      "metadata": {
        "id": "tBi2wapHjmgU",
        "colab_type": "code",
        "colab": {
          "base_uri": "https://localhost:8080/",
          "height": 302
        },
        "outputId": "e18bd373-3c01-42cb-f25a-cca18394c6a6"
      },
      "source": [
        "google_sheet_name = \"example stock spreadsheet\"      # <------ filename (google spreadsheet)\n",
        "sheet_name = \"stock price\"                 # <------ sheet name\n",
        "\n",
        "from bs4 import BeautifulSoup\n",
        "import requests\n",
        "from google.colab import drive\n",
        "from google.colab import auth\n",
        "auth.authenticate_user()\n",
        "import gspread\n",
        "from oauth2client.client import GoogleCredentials\n",
        "data = {}\n",
        "\n",
        "# get stock names\n",
        "gc = gspread.authorize(GoogleCredentials.get_application_default())\n",
        "\n",
        "try:\n",
        "  sh = gc.open(google_sheet_name)\n",
        "  wks = sh.worksheet(sheet_name)  \n",
        "except:\n",
        "  raise Exception(\"Spreadsheet \" + google_sheet_name + \"/\"+ sheet_name +\" not found.\")\n",
        "\n",
        "values_list = wks.col_values(1)\n",
        "name = values_list[1:]\n",
        "\n",
        "\n",
        "# get data\n",
        "for n in name:\n",
        "  head = []\n",
        "\n",
        "  link = \"https://hk.finance.yahoo.com/quote/\" + n + \"/history?p=\" + n\n",
        "  page = requests.get(link)\n",
        "  if (page.status_code == 404):\n",
        "    raise Exception(\"Invalid link or stock name: \" + n)\n",
        "  soup = BeautifulSoup(page.content,'html.parser')\n",
        "\n",
        "  try:\n",
        "    thead = soup.find(\"thead\")\n",
        "    thead_tr = thead.find(\"tr\")\n",
        "    th = thead_tr.find_all(\"th\")\n",
        "\n",
        "    tbody = soup.find(\"tbody\")\n",
        "    tbody_tr = tbody.find(\"tr\")\n",
        "    td = tbody_tr.find_all(\"td\")\n",
        "  except:\n",
        "    raise Exception(\"Invalid link or stock name: \" + n)\n",
        "\n",
        "  if (head != [] and (th[0].text not in head or th[5].text not in head)):\n",
        "    raise Exception(\"header difference:\" + th[0].text + \" \" + th[5].text)\n",
        "  elif (head == []):\n",
        "    head = [th[0].text,th[5].text]\n",
        "\n",
        "  data[n] = [td[0].text,td[5].text]\n",
        "\n",
        "\n",
        "#print data\n",
        "print(\"name\" + \"\\t\" + head[0] + '\\t\\t' + head[1])\n",
        "for n in name:\n",
        "  print(n + \"\\t\" + data[n][0] + \"\\t\" + data[n][1])\n",
        "print()\n",
        "\n",
        "\n",
        "#write data to spreadsheet\n",
        "print(\"\\nupdating file: \" + google_sheet_name +\"\\n\") \n",
        "for n in name:\n",
        "  try:\n",
        "    cell = wks.find(n)\n",
        "  except:\n",
        "    raise Exception(\"Cell with name \" + n + \" not found !!\" )\n",
        "    \n",
        "  print(\"Found stock name at Row%s Col%s\" % (cell.row, cell.col))\n",
        "  wks.update_cell(cell.row,cell.col+1, data[n][1])\n",
        "  print(\"Wrote stock price at Row%s Col%s\" % (cell.row, cell.col+1))"
      ],
      "execution_count": 13,
      "outputs": [
        {
          "output_type": "stream",
          "text": [
            "name\t日期\t\t經調整收市價**\n",
            "0001.HK\t2020年8月17日\t52.350\n",
            "S68.SI\t2020年8月17日\t8.64\n",
            "GOOG\t2020年8月14日\t1,507.73\n",
            "7974.T\t2020年8月17日\t51,550.00\n",
            "\n",
            "\n",
            "updating file: example stock spreadsheet\n",
            "\n",
            "Found stock name at Row2 Col1\n",
            "Wrote stock price at Row2 Col2\n",
            "Found stock name at Row3 Col1\n",
            "Wrote stock price at Row3 Col2\n",
            "Found stock name at Row4 Col1\n",
            "Wrote stock price at Row4 Col2\n",
            "Found stock name at Row5 Col1\n",
            "Wrote stock price at Row5 Col2\n"
          ],
          "name": "stdout"
        }
      ]
    },
    {
      "cell_type": "markdown",
      "metadata": {
        "id": "K5zE3oD5kiN2",
        "colab_type": "text"
      },
      "source": [
        "*Ref:*\n",
        "\n",
        "https://realpython.com/beautiful-soup-web-scraper-python/\n",
        "\n",
        "https://codeburst.io/how-to-scrape-yahoo-finance-using-python-31164aa06468\n",
        "\n",
        "https://colab.research.google.com/notebooks/io.ipynb#scrollTo=D78AM1fFt2ty"
      ]
    }
  ]
}